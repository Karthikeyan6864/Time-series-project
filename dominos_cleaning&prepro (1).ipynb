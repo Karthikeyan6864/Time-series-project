{
  "nbformat": 4,
  "nbformat_minor": 0,
  "metadata": {
    "colab": {
      "provenance": []
    },
    "kernelspec": {
      "name": "python3",
      "display_name": "Python 3"
    },
    "language_info": {
      "name": "python"
    }
  },
  "cells": [
    {
      "cell_type": "code",
      "execution_count": null,
      "metadata": {
        "colab": {
          "base_uri": "https://localhost:8080/",
          "height": 108
        },
        "id": "hKOdgRN0wCZ9",
        "outputId": "26184e14-d8d8-449c-c04a-c9a945e624d3"
      },
      "outputs": [
        {
          "output_type": "display_data",
          "data": {
            "text/plain": [
              "<IPython.core.display.HTML object>"
            ],
            "text/html": [
              "\n",
              "     <input type=\"file\" id=\"files-436cf802-7494-4202-bd0c-50fff8a93043\" name=\"files[]\" multiple disabled\n",
              "        style=\"border:none\" />\n",
              "     <output id=\"result-436cf802-7494-4202-bd0c-50fff8a93043\">\n",
              "      Upload widget is only available when the cell has been executed in the\n",
              "      current browser session. Please rerun this cell to enable.\n",
              "      </output>\n",
              "      <script>// Copyright 2017 Google LLC\n",
              "//\n",
              "// Licensed under the Apache License, Version 2.0 (the \"License\");\n",
              "// you may not use this file except in compliance with the License.\n",
              "// You may obtain a copy of the License at\n",
              "//\n",
              "//      http://www.apache.org/licenses/LICENSE-2.0\n",
              "//\n",
              "// Unless required by applicable law or agreed to in writing, software\n",
              "// distributed under the License is distributed on an \"AS IS\" BASIS,\n",
              "// WITHOUT WARRANTIES OR CONDITIONS OF ANY KIND, either express or implied.\n",
              "// See the License for the specific language governing permissions and\n",
              "// limitations under the License.\n",
              "\n",
              "/**\n",
              " * @fileoverview Helpers for google.colab Python module.\n",
              " */\n",
              "(function(scope) {\n",
              "function span(text, styleAttributes = {}) {\n",
              "  const element = document.createElement('span');\n",
              "  element.textContent = text;\n",
              "  for (const key of Object.keys(styleAttributes)) {\n",
              "    element.style[key] = styleAttributes[key];\n",
              "  }\n",
              "  return element;\n",
              "}\n",
              "\n",
              "// Max number of bytes which will be uploaded at a time.\n",
              "const MAX_PAYLOAD_SIZE = 100 * 1024;\n",
              "\n",
              "function _uploadFiles(inputId, outputId) {\n",
              "  const steps = uploadFilesStep(inputId, outputId);\n",
              "  const outputElement = document.getElementById(outputId);\n",
              "  // Cache steps on the outputElement to make it available for the next call\n",
              "  // to uploadFilesContinue from Python.\n",
              "  outputElement.steps = steps;\n",
              "\n",
              "  return _uploadFilesContinue(outputId);\n",
              "}\n",
              "\n",
              "// This is roughly an async generator (not supported in the browser yet),\n",
              "// where there are multiple asynchronous steps and the Python side is going\n",
              "// to poll for completion of each step.\n",
              "// This uses a Promise to block the python side on completion of each step,\n",
              "// then passes the result of the previous step as the input to the next step.\n",
              "function _uploadFilesContinue(outputId) {\n",
              "  const outputElement = document.getElementById(outputId);\n",
              "  const steps = outputElement.steps;\n",
              "\n",
              "  const next = steps.next(outputElement.lastPromiseValue);\n",
              "  return Promise.resolve(next.value.promise).then((value) => {\n",
              "    // Cache the last promise value to make it available to the next\n",
              "    // step of the generator.\n",
              "    outputElement.lastPromiseValue = value;\n",
              "    return next.value.response;\n",
              "  });\n",
              "}\n",
              "\n",
              "/**\n",
              " * Generator function which is called between each async step of the upload\n",
              " * process.\n",
              " * @param {string} inputId Element ID of the input file picker element.\n",
              " * @param {string} outputId Element ID of the output display.\n",
              " * @return {!Iterable<!Object>} Iterable of next steps.\n",
              " */\n",
              "function* uploadFilesStep(inputId, outputId) {\n",
              "  const inputElement = document.getElementById(inputId);\n",
              "  inputElement.disabled = false;\n",
              "\n",
              "  const outputElement = document.getElementById(outputId);\n",
              "  outputElement.innerHTML = '';\n",
              "\n",
              "  const pickedPromise = new Promise((resolve) => {\n",
              "    inputElement.addEventListener('change', (e) => {\n",
              "      resolve(e.target.files);\n",
              "    });\n",
              "  });\n",
              "\n",
              "  const cancel = document.createElement('button');\n",
              "  inputElement.parentElement.appendChild(cancel);\n",
              "  cancel.textContent = 'Cancel upload';\n",
              "  const cancelPromise = new Promise((resolve) => {\n",
              "    cancel.onclick = () => {\n",
              "      resolve(null);\n",
              "    };\n",
              "  });\n",
              "\n",
              "  // Wait for the user to pick the files.\n",
              "  const files = yield {\n",
              "    promise: Promise.race([pickedPromise, cancelPromise]),\n",
              "    response: {\n",
              "      action: 'starting',\n",
              "    }\n",
              "  };\n",
              "\n",
              "  cancel.remove();\n",
              "\n",
              "  // Disable the input element since further picks are not allowed.\n",
              "  inputElement.disabled = true;\n",
              "\n",
              "  if (!files) {\n",
              "    return {\n",
              "      response: {\n",
              "        action: 'complete',\n",
              "      }\n",
              "    };\n",
              "  }\n",
              "\n",
              "  for (const file of files) {\n",
              "    const li = document.createElement('li');\n",
              "    li.append(span(file.name, {fontWeight: 'bold'}));\n",
              "    li.append(span(\n",
              "        `(${file.type || 'n/a'}) - ${file.size} bytes, ` +\n",
              "        `last modified: ${\n",
              "            file.lastModifiedDate ? file.lastModifiedDate.toLocaleDateString() :\n",
              "                                    'n/a'} - `));\n",
              "    const percent = span('0% done');\n",
              "    li.appendChild(percent);\n",
              "\n",
              "    outputElement.appendChild(li);\n",
              "\n",
              "    const fileDataPromise = new Promise((resolve) => {\n",
              "      const reader = new FileReader();\n",
              "      reader.onload = (e) => {\n",
              "        resolve(e.target.result);\n",
              "      };\n",
              "      reader.readAsArrayBuffer(file);\n",
              "    });\n",
              "    // Wait for the data to be ready.\n",
              "    let fileData = yield {\n",
              "      promise: fileDataPromise,\n",
              "      response: {\n",
              "        action: 'continue',\n",
              "      }\n",
              "    };\n",
              "\n",
              "    // Use a chunked sending to avoid message size limits. See b/62115660.\n",
              "    let position = 0;\n",
              "    do {\n",
              "      const length = Math.min(fileData.byteLength - position, MAX_PAYLOAD_SIZE);\n",
              "      const chunk = new Uint8Array(fileData, position, length);\n",
              "      position += length;\n",
              "\n",
              "      const base64 = btoa(String.fromCharCode.apply(null, chunk));\n",
              "      yield {\n",
              "        response: {\n",
              "          action: 'append',\n",
              "          file: file.name,\n",
              "          data: base64,\n",
              "        },\n",
              "      };\n",
              "\n",
              "      let percentDone = fileData.byteLength === 0 ?\n",
              "          100 :\n",
              "          Math.round((position / fileData.byteLength) * 100);\n",
              "      percent.textContent = `${percentDone}% done`;\n",
              "\n",
              "    } while (position < fileData.byteLength);\n",
              "  }\n",
              "\n",
              "  // All done.\n",
              "  yield {\n",
              "    response: {\n",
              "      action: 'complete',\n",
              "    }\n",
              "  };\n",
              "}\n",
              "\n",
              "scope.google = scope.google || {};\n",
              "scope.google.colab = scope.google.colab || {};\n",
              "scope.google.colab._files = {\n",
              "  _uploadFiles,\n",
              "  _uploadFilesContinue,\n",
              "};\n",
              "})(self);\n",
              "</script> "
            ]
          },
          "metadata": {}
        },
        {
          "output_type": "stream",
          "name": "stdout",
          "text": [
            "Saving Pizza_ingredients.csv to Pizza_ingredients.csv\n",
            "Saving Pizza_Sale.csv to Pizza_Sale.csv\n"
          ]
        }
      ],
      "source": [
        "from google.colab import files\n",
        "\n",
        "\n",
        "uploaded = files.upload()\n"
      ]
    },
    {
      "cell_type": "code",
      "source": [
        "import pandas as pd\n",
        "\n",
        "pizza_ingredients_df = pd.read_csv(\"Pizza_ingredients.csv\")\n",
        "pizza_sales_df = pd.read_csv(\"Pizza_Sale.csv\")\n",
        "\n",
        "print(pizza_ingredients_df.head())\n",
        "print(pizza_sales_df.head())\n"
      ],
      "metadata": {
        "colab": {
          "base_uri": "https://localhost:8080/"
        },
        "id": "PREB4c8H8P7n",
        "outputId": "f621d581-6be4-4c29-e33e-7a48e7b62df2"
      },
      "execution_count": null,
      "outputs": [
        {
          "output_type": "stream",
          "name": "stdout",
          "text": [
            "  pizza_name_id                  pizza_name  pizza_ingredients  \\\n",
            "0     bbq_ckn_l  The Barbecue Chicken Pizza  Barbecued Chicken   \n",
            "1     bbq_ckn_l  The Barbecue Chicken Pizza        Red Peppers   \n",
            "2     bbq_ckn_l  The Barbecue Chicken Pizza      Green Peppers   \n",
            "3     bbq_ckn_l  The Barbecue Chicken Pizza           Tomatoes   \n",
            "4     bbq_ckn_l  The Barbecue Chicken Pizza         Red Onions   \n",
            "\n",
            "   Items_Qty_In_Grams  \n",
            "0                40.0  \n",
            "1                15.0  \n",
            "2                20.0  \n",
            "3                30.0  \n",
            "4                60.0  \n",
            "   pizza_id  order_id  pizza_name_id  quantity order_date order_time  \\\n",
            "0         1         1     hawaiian_m         1   1/1/2015   11:38:36   \n",
            "1         2         2  classic_dlx_m         1   1/1/2015   11:57:40   \n",
            "2         3         2  five_cheese_l         1   1/1/2015   11:57:40   \n",
            "3         4         2    ital_supr_l         1   1/1/2015   11:57:40   \n",
            "4         5         2     mexicana_m         1   1/1/2015   11:57:40   \n",
            "\n",
            "   unit_price  total_price pizza_size pizza_category  \\\n",
            "0       13.25        13.25          M        Classic   \n",
            "1       16.00        16.00          M        Classic   \n",
            "2       18.50        18.50          L         Veggie   \n",
            "3       20.75        20.75          L        Supreme   \n",
            "4       16.00        16.00          M         Veggie   \n",
            "\n",
            "                                   pizza_ingredients  \\\n",
            "0           Sliced Ham, Pineapple, Mozzarella Cheese   \n",
            "1  Pepperoni, Mushrooms, Red Onions, Red Peppers,...   \n",
            "2  Mozzarella Cheese, Provolone Cheese, Smoked Go...   \n",
            "3  Calabrese Salami, Capocollo, Tomatoes, Red Oni...   \n",
            "4  Tomatoes, Red Peppers, Jalapeno Peppers, Red O...   \n",
            "\n",
            "                  pizza_name  \n",
            "0         The Hawaiian Pizza  \n",
            "1   The Classic Deluxe Pizza  \n",
            "2      The Five Cheese Pizza  \n",
            "3  The Italian Supreme Pizza  \n",
            "4         The Mexicana Pizza  \n"
          ]
        }
      ]
    },
    {
      "cell_type": "code",
      "source": [
        "print(pizza_ingredients_df.size)\n",
        "print(pizza_ingredients_df.shape)\n",
        "print(pizza_sales_df.size)\n",
        "print(pizza_sales_df.shape)"
      ],
      "metadata": {
        "colab": {
          "base_uri": "https://localhost:8080/"
        },
        "id": "-otiYOheBui-",
        "outputId": "2173951b-561a-4639-dda7-e1fb7ce3e0ad"
      },
      "execution_count": null,
      "outputs": [
        {
          "output_type": "stream",
          "name": "stdout",
          "text": [
            "2072\n",
            "(518, 4)\n",
            "583440\n",
            "(48620, 12)\n"
          ]
        }
      ]
    },
    {
      "cell_type": "code",
      "source": [
        "print(pizza_ingredients_df.isnull().sum())\n",
        "print(pizza_sales_df.isnull().sum())\n"
      ],
      "metadata": {
        "colab": {
          "base_uri": "https://localhost:8080/"
        },
        "id": "_Os04OBDCOF3",
        "outputId": "73f5834c-af92-4263-c4fb-80226502ccbb"
      },
      "execution_count": null,
      "outputs": [
        {
          "output_type": "stream",
          "name": "stdout",
          "text": [
            "pizza_name_id         0\n",
            "pizza_name            0\n",
            "pizza_ingredients     0\n",
            "Items_Qty_In_Grams    4\n",
            "dtype: int64\n",
            "pizza_id              0\n",
            "order_id              0\n",
            "pizza_name_id        16\n",
            "quantity              0\n",
            "order_date            0\n",
            "order_time            0\n",
            "unit_price            0\n",
            "total_price           7\n",
            "pizza_size            0\n",
            "pizza_category       23\n",
            "pizza_ingredients    13\n",
            "pizza_name            7\n",
            "dtype: int64\n"
          ]
        }
      ]
    },
    {
      "cell_type": "code",
      "source": [
        "# Fill missing Items_Qty_In_Grams with the median value\n",
        "pizza_ingredients_df[\"Items_Qty_In_Grams\"].fillna(pizza_ingredients_df[\"Items_Qty_In_Grams\"].median(), inplace=True)\n"
      ],
      "metadata": {
        "colab": {
          "base_uri": "https://localhost:8080/"
        },
        "id": "W8Sd-1E7NXrE",
        "outputId": "340bc13f-e082-4782-81dd-3edfe43b37ed"
      },
      "execution_count": null,
      "outputs": [
        {
          "output_type": "stream",
          "name": "stderr",
          "text": [
            "<ipython-input-5-01abbff0c47a>:2: FutureWarning: A value is trying to be set on a copy of a DataFrame or Series through chained assignment using an inplace method.\n",
            "The behavior will change in pandas 3.0. This inplace method will never work because the intermediate object on which we are setting values always behaves as a copy.\n",
            "\n",
            "For example, when doing 'df[col].method(value, inplace=True)', try using 'df.method({col: value}, inplace=True)' or df[col] = df[col].method(value) instead, to perform the operation inplace on the original object.\n",
            "\n",
            "\n",
            "  pizza_ingredients_df[\"Items_Qty_In_Grams\"].fillna(pizza_ingredients_df[\"Items_Qty_In_Grams\"].median(), inplace=True)\n"
          ]
        }
      ]
    },
    {
      "cell_type": "code",
      "source": [
        "pizza_sales_df.dropna(subset=[\"pizza_name_id\"], inplace=True)\n",
        "\n",
        "# Fill missing total_price by recalculating\n",
        "pizza_sales_df[\"total_price\"].fillna(pizza_sales_df[\"quantity\"] * pizza_sales_df[\"unit_price\"], inplace=True)"
      ],
      "metadata": {
        "colab": {
          "base_uri": "https://localhost:8080/"
        },
        "id": "IXUfeDm_Ni1N",
        "outputId": "ab995bec-d58c-46b4-e2ba-61fc4ad27f90"
      },
      "execution_count": null,
      "outputs": [
        {
          "output_type": "stream",
          "name": "stderr",
          "text": [
            "<ipython-input-6-39544fbd0292>:4: FutureWarning: A value is trying to be set on a copy of a DataFrame or Series through chained assignment using an inplace method.\n",
            "The behavior will change in pandas 3.0. This inplace method will never work because the intermediate object on which we are setting values always behaves as a copy.\n",
            "\n",
            "For example, when doing 'df[col].method(value, inplace=True)', try using 'df.method({col: value}, inplace=True)' or df[col] = df[col].method(value) instead, to perform the operation inplace on the original object.\n",
            "\n",
            "\n",
            "  pizza_sales_df[\"total_price\"].fillna(pizza_sales_df[\"quantity\"] * pizza_sales_df[\"unit_price\"], inplace=True)\n"
          ]
        }
      ]
    },
    {
      "cell_type": "code",
      "source": [
        "category_mode_mapping = pizza_sales_df.groupby(\"pizza_name\")[\"pizza_category\"].agg(lambda x: x.mode()[0])\n",
        "\n",
        "pizza_sales_df[\"pizza_category\"] = pizza_sales_df.apply(\n",
        "    lambda row: category_mode_mapping[row[\"pizza_name\"]] if pd.isnull(row[\"pizza_category\"]) else row[\"pizza_category\"],\n",
        "    axis=1\n",
        ")\n"
      ],
      "metadata": {
        "id": "C7UMyEsJZ2kK"
      },
      "execution_count": null,
      "outputs": []
    },
    {
      "cell_type": "code",
      "source": [
        "ingredients_mode_mapping = pizza_sales_df.groupby(\"pizza_name\")[\"pizza_ingredients\"].agg(lambda x: x.mode()[0])\n",
        "\n",
        "pizza_sales_df[\"pizza_ingredients\"] = pizza_sales_df.apply(\n",
        "    lambda row: ingredients_mode_mapping[row[\"pizza_name\"]] if pd.isnull(row[\"pizza_ingredients\"]) else row[\"pizza_ingredients\"],\n",
        "    axis=1\n",
        ")\n"
      ],
      "metadata": {
        "id": "Zxip3eG_r65W"
      },
      "execution_count": null,
      "outputs": []
    },
    {
      "cell_type": "code",
      "source": [
        "import pandas as pd\n",
        "\n",
        "pizza_name_id_mode_mapping = pizza_sales_df.groupby(\"pizza_name\")[\"pizza_name_id\"].agg(lambda x: x.mode()[0] if not x.mode().empty else None)\n",
        "\n",
        "# Fill missing values using the mapping\n",
        "pizza_sales_df[\"pizza_name_id\"] = pizza_sales_df.apply(\n",
        "    lambda row: pizza_name_id_mode_mapping[row[\"pizza_name\"]] if pd.isnull(row[\"pizza_name_id\"]) else row[\"pizza_name_id\"],\n",
        "    axis=1\n",
        ")\n",
        "\n",
        "print(\"Missing values after filling:\", pizza_sales_df[\"pizza_name_id\"].isnull().sum())\n"
      ],
      "metadata": {
        "colab": {
          "base_uri": "https://localhost:8080/"
        },
        "id": "mluitAExGOkD",
        "outputId": "26adc986-e051-4be4-cc58-be73483fc1d9"
      },
      "execution_count": null,
      "outputs": [
        {
          "output_type": "stream",
          "name": "stdout",
          "text": [
            "Missing values after filling: 0\n"
          ]
        }
      ]
    },
    {
      "cell_type": "code",
      "source": [
        "# Create a mapping of pizza_name_id to its most frequent (mode) pizza_name\n",
        "pizza_name_mode_mapping = pizza_sales_df.groupby(\"pizza_name_id\")[\"pizza_name\"].agg(lambda x: x.mode()[0] if not x.mode().empty else None)\n",
        "\n",
        "\n",
        "pizza_sales_df[\"pizza_name\"] = pizza_sales_df.apply(\n",
        "    lambda row: pizza_name_mode_mapping[row[\"pizza_name_id\"]] if pd.isnull(row[\"pizza_name\"]) else row[\"pizza_name\"],\n",
        "    axis=1\n",
        ")\n",
        "\n",
        "\n",
        "print(\"Missing values after filling:\", pizza_sales_df[\"pizza_name\"].isnull().sum())\n"
      ],
      "metadata": {
        "colab": {
          "base_uri": "https://localhost:8080/"
        },
        "id": "q_vz1DXOGg28",
        "outputId": "eb733d8f-7d38-44bb-968b-4a03e2bc5168"
      },
      "execution_count": null,
      "outputs": [
        {
          "output_type": "stream",
          "name": "stdout",
          "text": [
            "Missing values after filling: 0\n"
          ]
        }
      ]
    },
    {
      "cell_type": "code",
      "source": [
        "pizza_sales_df.drop_duplicates(inplace=True)\n"
      ],
      "metadata": {
        "id": "eM8pLoydHJuH"
      },
      "execution_count": null,
      "outputs": []
    },
    {
      "cell_type": "code",
      "source": [
        "print(pizza_sales_df[\"order_date\"].unique())  # Identify any inconsistencies\n",
        "print(pizza_sales_df[\"order_time\"].unique())\n"
      ],
      "metadata": {
        "colab": {
          "base_uri": "https://localhost:8080/"
        },
        "collapsed": true,
        "id": "XVj3_059LK6M",
        "outputId": "7e504091-dd71-410c-a722-df3ed829bfe3"
      },
      "execution_count": null,
      "outputs": [
        {
          "output_type": "stream",
          "name": "stdout",
          "text": [
            "['1/1/2015' '2/1/2015' '3/1/2015' '4/1/2015' '5/1/2015' '6/1/2015'\n",
            " '7/1/2015' '8/1/2015' '9/1/2015' '10/1/2015' '11/1/2015' '12/1/2015'\n",
            " '13-01-2015' '14-01-2015' '15-01-2015' '16-01-2015' '17-01-2015'\n",
            " '18-01-2015' '19-01-2015' '20-01-2015' '21-01-2015' '22-01-2015'\n",
            " '23-01-2015' '24-01-2015' '25-01-2015' '26-01-2015' '27-01-2015'\n",
            " '28-01-2015' '29-01-2015' '30-01-2015' '31-01-2015' '1/2/2015' '2/2/2015'\n",
            " '3/2/2015' '4/2/2015' '5/2/2015' '6/2/2015' '7/2/2015' '8/2/2015'\n",
            " '9/2/2015' '10/2/2015' '11/2/2015' '12/2/2015' '13-02-2015' '14-02-2015'\n",
            " '15-02-2015' '16-02-2015' '17-02-2015' '18-02-2015' '19-02-2015'\n",
            " '20-02-2015' '21-02-2015' '22-02-2015' '23-02-2015' '24-02-2015'\n",
            " '25-02-2015' '26-02-2015' '27-02-2015' '28-02-2015' '1/3/2015' '2/3/2015'\n",
            " '3/3/2015' '4/3/2015' '5/3/2015' '6/3/2015' '7/3/2015' '8/3/2015'\n",
            " '9/3/2015' '10/3/2015' '11/3/2015' '12/3/2015' '13-03-2015' '14-03-2015'\n",
            " '15-03-2015' '16-03-2015' '17-03-2015' '18-03-2015' '19-03-2015'\n",
            " '20-03-2015' '21-03-2015' '22-03-2015' '23-03-2015' '24-03-2015'\n",
            " '25-03-2015' '26-03-2015' '27-03-2015' '28-03-2015' '29-03-2015'\n",
            " '30-03-2015' '31-03-2015' '1/4/2015' '2/4/2015' '3/4/2015' '4/4/2015'\n",
            " '5/4/2015' '6/4/2015' '7/4/2015' '8/4/2015' '9/4/2015' '10/4/2015'\n",
            " '11/4/2015' '12/4/2015' '13-04-2015' '14-04-2015' '15-04-2015'\n",
            " '16-04-2015' '17-04-2015' '18-04-2015' '19-04-2015' '20-04-2015'\n",
            " '21-04-2015' '22-04-2015' '23-04-2015' '24-04-2015' '25-04-2015'\n",
            " '26-04-2015' '27-04-2015' '28-04-2015' '29-04-2015' '30-04-2015'\n",
            " '1/5/2015' '2/5/2015' '3/5/2015' '4/5/2015' '5/5/2015' '6/5/2015'\n",
            " '7/5/2015' '8/5/2015' '9/5/2015' '10/5/2015' '11/5/2015' '12/5/2015'\n",
            " '13-05-2015' '14-05-2015' '15-05-2015' '16-05-2015' '17-05-2015'\n",
            " '18-05-2015' '19-05-2015' '20-05-2015' '21-05-2015' '22-05-2015'\n",
            " '23-05-2015' '24-05-2015' '25-05-2015' '26-05-2015' '27-05-2015'\n",
            " '28-05-2015' '29-05-2015' '30-05-2015' '31-05-2015' '1/6/2015' '2/6/2015'\n",
            " '3/6/2015' '4/6/2015' '5/6/2015' '6/6/2015' '7/6/2015' '8/6/2015'\n",
            " '9/6/2015' '10/6/2015' '11/6/2015' '12/6/2015' '13-06-2015' '14-06-2015'\n",
            " '15-06-2015' '16-06-2015' '17-06-2015' '18-06-2015' '19-06-2015'\n",
            " '20-06-2015' '21-06-2015' '22-06-2015' '23-06-2015' '24-06-2015'\n",
            " '25-06-2015' '26-06-2015' '27-06-2015' '28-06-2015' '29-06-2015'\n",
            " '30-06-2015' '1/7/2015' '2/7/2015' '3/7/2015' '4/7/2015' '5/7/2015'\n",
            " '6/7/2015' '7/7/2015' '8/7/2015' '9/7/2015' '10/7/2015' '11/7/2015'\n",
            " '12/7/2015' '13-07-2015' '14-07-2015' '15-07-2015' '16-07-2015'\n",
            " '17-07-2015' '18-07-2015' '19-07-2015' '20-07-2015' '21-07-2015'\n",
            " '22-07-2015' '23-07-2015' '24-07-2015' '25-07-2015' '26-07-2015'\n",
            " '27-07-2015' '28-07-2015' '29-07-2015' '30-07-2015' '31-07-2015'\n",
            " '1/8/2015' '2/8/2015' '3/8/2015' '4/8/2015' '5/8/2015' '6/8/2015'\n",
            " '7/8/2015' '8/8/2015' '9/8/2015' '10/8/2015' '11/8/2015' '12/8/2015'\n",
            " '13-08-2015' '14-08-2015' '15-08-2015' '16-08-2015' '17-08-2015'\n",
            " '18-08-2015' '19-08-2015' '20-08-2015' '21-08-2015' '22-08-2015'\n",
            " '23-08-2015' '24-08-2015' '25-08-2015' '26-08-2015' '27-08-2015'\n",
            " '28-08-2015' '29-08-2015' '30-08-2015' '31-08-2015' '1/9/2015' '2/9/2015'\n",
            " '3/9/2015' '4/9/2015' '5/9/2015' '6/9/2015' '7/9/2015' '8/9/2015'\n",
            " '9/9/2015' '10/9/2015' '11/9/2015' '12/9/2015' '13-09-2015' '14-09-2015'\n",
            " '15-09-2015' '16-09-2015' '17-09-2015' '18-09-2015' '19-09-2015'\n",
            " '20-09-2015' '21-09-2015' '22-09-2015' '23-09-2015' '26-09-2015'\n",
            " '27-09-2015' '28-09-2015' '29-09-2015' '30-09-2015' '1/10/2015'\n",
            " '2/10/2015' '3/10/2015' '4/10/2015' '6/10/2015' '7/10/2015' '8/10/2015'\n",
            " '9/10/2015' '10/10/2015' '11/10/2015' '13-10-2015' '14-10-2015'\n",
            " '15-10-2015' '16-10-2015' '17-10-2015' '18-10-2015' '20-10-2015'\n",
            " '21-10-2015' '22-10-2015' '23-10-2015' '24-10-2015' '25-10-2015'\n",
            " '27-10-2015' '28-10-2015' '29-10-2015' '30-10-2015' '31-10-2015'\n",
            " '1/11/2015' '2/11/2015' '3/11/2015' '4/11/2015' '5/11/2015' '6/11/2015'\n",
            " '7/11/2015' '8/11/2015' '9/11/2015' '10/11/2015' '11/11/2015'\n",
            " '12/11/2015' '13-11-2015' '14-11-2015' '15-11-2015' '16-11-2015'\n",
            " '17-11-2015' '18-11-2015' '19-11-2015' '20-11-2015' '21-11-2015'\n",
            " '22-11-2015' '23-11-2015' '24-11-2015' '25-11-2015' '26-11-2015'\n",
            " '27-11-2015' '28-11-2015' '29-11-2015' '30-11-2015' '1/12/2015'\n",
            " '2/12/2015' '3/12/2015' '4/12/2015' '5/12/2015' '6/12/2015' '7/12/2015'\n",
            " '8/12/2015' '9/12/2015' '10/12/2015' '11/12/2015' '12/12/2015'\n",
            " '13-12-2015' '14-12-2015' '15-12-2015' '16-12-2015' '17-12-2015'\n",
            " '18-12-2015' '19-12-2015' '20-12-2015' '21-12-2015' '22-12-2015'\n",
            " '23-12-2015' '24-12-2015' '26-12-2015' '27-12-2015' '28-12-2015'\n",
            " '29-12-2015' '30-12-2015' '31-12-2015']\n",
            "['11:38:36' '11:57:40' '12:12:28' ... '20:51:07' '21:14:37' '22:09:54']\n"
          ]
        }
      ]
    },
    {
      "cell_type": "code",
      "source": [
        "pizza_sales_df[\"order_date\"] = pd.to_datetime(pizza_sales_df[\"order_date\"], format=\"mixed\", dayfirst=True)\n",
        "\n",
        "\n",
        "pizza_sales_df[\"order_time\"] = pd.to_datetime(pizza_sales_df[\"order_time\"], format=\"%H:%M:%S\", errors=\"coerce\").dt.time\n",
        "\n"
      ],
      "metadata": {
        "id": "p1KrouGmIMgL"
      },
      "execution_count": null,
      "outputs": []
    },
    {
      "cell_type": "code",
      "source": [
        "\n",
        "# Check if any dates failed to convert\n",
        "print(pizza_sales_df[\"order_date\"].isna().sum())\n",
        "print(pizza_sales_df[pizza_sales_df[\"order_date\"].isna()])\n"
      ],
      "metadata": {
        "colab": {
          "base_uri": "https://localhost:8080/"
        },
        "id": "MSii1gdTLj4L",
        "outputId": "5434d30b-7764-422d-8fd7-6e4d22edf3e4"
      },
      "execution_count": null,
      "outputs": [
        {
          "output_type": "stream",
          "name": "stdout",
          "text": [
            "0\n",
            "Empty DataFrame\n",
            "Columns: [pizza_id, order_id, pizza_name_id, quantity, order_date, order_time, unit_price, total_price, pizza_size, pizza_category, pizza_ingredients, pizza_name]\n",
            "Index: []\n"
          ]
        }
      ]
    },
    {
      "cell_type": "code",
      "source": [
        "pizza_sales_df[\"year\"] = pizza_sales_df[\"order_date\"].dt.year\n",
        "pizza_sales_df[\"month\"] = pizza_sales_df[\"order_date\"].dt.month\n",
        "pizza_sales_df[\"day\"] = pizza_sales_df[\"order_date\"].dt.day\n",
        "pizza_sales_df[\"weekday\"] = pizza_sales_df[\"order_date\"].dt.day_name()\n",
        "pizza_sales_df[\"week\"] = pizza_sales_df[\"order_date\"].dt.isocalendar().week\n"
      ],
      "metadata": {
        "id": "Y5TN75UQI0AT"
      },
      "execution_count": null,
      "outputs": []
    },
    {
      "cell_type": "code",
      "source": [
        "pizza_sales_df[\"hour\"] = pd.to_datetime(pizza_sales_df[\"order_time\"], format=\"%H:%M:%S\").dt.hour\n",
        "pizza_sales_df[\"is_weekend\"] = pizza_sales_df[\"weekday\"].isin([\"Saturday\", \"Sunday\"]).astype(int)\n"
      ],
      "metadata": {
        "id": "DHhOiREII2pk"
      },
      "execution_count": null,
      "outputs": []
    },
    {
      "cell_type": "code",
      "source": [
        "pizza_sales_df[\"revenue_per_pizza\"] = pizza_sales_df[\"unit_price\"] * pizza_sales_df[\"quantity\"]\n"
      ],
      "metadata": {
        "id": "h82vV_TJI83L"
      },
      "execution_count": null,
      "outputs": []
    },
    {
      "cell_type": "code",
      "source": [
        "from sklearn.preprocessing import LabelEncoder\n",
        "\n",
        "encoder = LabelEncoder()\n",
        "pizza_sales_df[\"pizza_category_encoded\"] = encoder.fit_transform(pizza_sales_df[\"pizza_category\"])\n",
        "pizza_sales_df[\"pizza_size_encoded\"] = encoder.fit_transform(pizza_sales_df[\"pizza_size\"])\n"
      ],
      "metadata": {
        "id": "VOYqI3AUJGgs"
      },
      "execution_count": null,
      "outputs": []
    },
    {
      "cell_type": "code",
      "source": [
        "pizza_sales_df.to_csv(\"pizza_sales_cleaned.csv\", index=False)\n",
        "from google.colab import files\n",
        "files.download(\"pizza_sales_cleaned.csv\")\n",
        "\n"
      ],
      "metadata": {
        "colab": {
          "base_uri": "https://localhost:8080/",
          "height": 17
        },
        "id": "PSMJf8y5JW1R",
        "outputId": "af3dd669-496e-4b36-b7ca-41007e57fb40"
      },
      "execution_count": null,
      "outputs": [
        {
          "output_type": "display_data",
          "data": {
            "text/plain": [
              "<IPython.core.display.Javascript object>"
            ],
            "application/javascript": [
              "\n",
              "    async function download(id, filename, size) {\n",
              "      if (!google.colab.kernel.accessAllowed) {\n",
              "        return;\n",
              "      }\n",
              "      const div = document.createElement('div');\n",
              "      const label = document.createElement('label');\n",
              "      label.textContent = `Downloading \"${filename}\": `;\n",
              "      div.appendChild(label);\n",
              "      const progress = document.createElement('progress');\n",
              "      progress.max = size;\n",
              "      div.appendChild(progress);\n",
              "      document.body.appendChild(div);\n",
              "\n",
              "      const buffers = [];\n",
              "      let downloaded = 0;\n",
              "\n",
              "      const channel = await google.colab.kernel.comms.open(id);\n",
              "      // Send a message to notify the kernel that we're ready.\n",
              "      channel.send({})\n",
              "\n",
              "      for await (const message of channel.messages) {\n",
              "        // Send a message to notify the kernel that we're ready.\n",
              "        channel.send({})\n",
              "        if (message.buffers) {\n",
              "          for (const buffer of message.buffers) {\n",
              "            buffers.push(buffer);\n",
              "            downloaded += buffer.byteLength;\n",
              "            progress.value = downloaded;\n",
              "          }\n",
              "        }\n",
              "      }\n",
              "      const blob = new Blob(buffers, {type: 'application/binary'});\n",
              "      const a = document.createElement('a');\n",
              "      a.href = window.URL.createObjectURL(blob);\n",
              "      a.download = filename;\n",
              "      div.appendChild(a);\n",
              "      a.click();\n",
              "      div.remove();\n",
              "    }\n",
              "  "
            ]
          },
          "metadata": {}
        },
        {
          "output_type": "display_data",
          "data": {
            "text/plain": [
              "<IPython.core.display.Javascript object>"
            ],
            "application/javascript": [
              "download(\"download_01329056-544a-42de-aec7-15489c200ca4\", \"pizza_sales_cleaned.csv\", 9605536)"
            ]
          },
          "metadata": {}
        }
      ]
    },
    {
      "cell_type": "code",
      "source": [
        "import matplotlib.pyplot as plt\n",
        "import seaborn as sns\n",
        "\n",
        "# Group sales by pizza size\n",
        "size_sales = pizza_sales_df.groupby(\"pizza_size\")[\"total_price\"].sum().sort_values()\n",
        "\n",
        "# Group sales by pizza category\n",
        "category_sales = pizza_sales_df.groupby(\"pizza_category\")[\"total_price\"].sum().sort_values()\n",
        "\n",
        "# Plot sales by pizza size\n",
        "fig, axes = plt.subplots(1, 2, figsize=(14, 5))\n",
        "\n",
        "sns.barplot(x=size_sales.index, y=size_sales.values, ax=axes[0], palette=\"coolwarm\")\n",
        "axes[0].set_title(\"Total Sales by Pizza Size\", fontsize=14)\n",
        "axes[0].set_xlabel(\"Pizza Size\")\n",
        "axes[0].set_ylabel(\"Total Sales ($)\")\n",
        "\n",
        "# Plot sales by pizza category\n",
        "sns.barplot(y=category_sales.index, x=category_sales.values, ax=axes[1], palette=\"coolwarm\")\n",
        "axes[1].set_title(\"Total Sales by Pizza Category\", fontsize=14)\n",
        "axes[1].set_xlabel(\"Total Sales ($)\")\n",
        "axes[1].set_ylabel(\"Pizza Category\")\n",
        "\n",
        "plt.tight_layout()\n",
        "plt.show()\n"
      ],
      "metadata": {
        "colab": {
          "base_uri": "https://localhost:8080/",
          "height": 681
        },
        "id": "a6UJ1TMdhlb9",
        "outputId": "99362fdb-b7cc-4419-a6e3-f10a07bc21c3"
      },
      "execution_count": null,
      "outputs": [
        {
          "output_type": "stream",
          "name": "stderr",
          "text": [
            "<ipython-input-21-d4a46a37d244>:13: FutureWarning: \n",
            "\n",
            "Passing `palette` without assigning `hue` is deprecated and will be removed in v0.14.0. Assign the `x` variable to `hue` and set `legend=False` for the same effect.\n",
            "\n",
            "  sns.barplot(x=size_sales.index, y=size_sales.values, ax=axes[0], palette=\"coolwarm\")\n",
            "<ipython-input-21-d4a46a37d244>:19: FutureWarning: \n",
            "\n",
            "Passing `palette` without assigning `hue` is deprecated and will be removed in v0.14.0. Assign the `y` variable to `hue` and set `legend=False` for the same effect.\n",
            "\n",
            "  sns.barplot(y=category_sales.index, x=category_sales.values, ax=axes[1], palette=\"coolwarm\")\n"
          ]
        },
        {
          "output_type": "display_data",
          "data": {
            "text/plain": [
              "<Figure size 1400x500 with 2 Axes>"
            ],
            "image/png": "[encoded data removed]"
          },
          "metadata": {}
        }
      ]
    },
    {
      "cell_type": "code",
      "source": [],
      "metadata": {
        "id": "iFahsCnh28t_"
      },
      "execution_count": null,
      "outputs": []
    }
  ]
}